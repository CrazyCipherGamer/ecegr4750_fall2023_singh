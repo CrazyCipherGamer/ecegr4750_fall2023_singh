{
 "cells": [
  {
   "cell_type": "markdown",
   "metadata": {},
   "source": [
    "# Import Python modules"
   ]
  },
  {
   "cell_type": "code",
   "execution_count": 7,
   "metadata": {},
   "outputs": [],
   "source": [
    "from sklearn.linear_model import LinearRegression\n",
    "import matplotlib.pyplot as plt\n",
    "import torch\n",
    "import utils\n",
    "import networks\n",
    "from dataloader import ImageDataloader, MultimodalDataloader"
   ]
  },
  {
   "cell_type": "markdown",
   "metadata": {},
   "source": [
    "# Load processed data"
   ]
  },
  {
   "cell_type": "code",
   "execution_count": 8,
   "metadata": {},
   "outputs": [],
   "source": [
    "data_dict = torch.load('data/image_csv_processed.pt')\n",
    "image_dict = torch.load('data/images_processed.pt')\n",
    "\n",
    "x_train = data_dict['x_train']\n",
    "y_train = data_dict['y_train']\n",
    "x_val = data_dict['x_val']\n",
    "y_val = data_dict['y_val']\n",
    "x_test = data_dict['x_test']\n",
    "y_test = data_dict['y_test']"
   ]
  },
  {
   "cell_type": "markdown",
   "metadata": {},
   "source": [
    "# Fit data to linear regression model"
   ]
  },
  {
   "cell_type": "code",
   "execution_count": 9,
   "metadata": {},
   "outputs": [],
   "source": [
    "model = LinearRegression()\n",
    "\n",
    "model = model.fit(x_train, y_train)\n",
    "\n",
    "pred = model.predict(x_val)"
   ]
  },
  {
   "cell_type": "markdown",
   "metadata": {},
   "source": [
    "# Train images only with a CNN"
   ]
  },
  {
   "cell_type": "code",
   "execution_count": 6,
   "metadata": {},
   "outputs": [
    {
     "name": "stderr",
     "output_type": "stream",
     "text": [
      "100%|██████████| 50/50 [21:48<00:00, 26.17s/it]\n"
     ]
    }
   ],
   "source": [
    "x_train_image = image_dict['x_train_image']\n",
    "x_val_image = image_dict['x_val_image']\n",
    "\n",
    "# relatively large batch size chosen to ensure faster training\n",
    "image_batch_size = 32\n",
    "\n",
    "train_dataloader = ImageDataloader(x = x_train_image, y = y_train, batch_size=image_batch_size, randomize=True)\n",
    "val_dataloader = ImageDataloader(x = x_val_image, y = y_val, batch_size=image_batch_size, randomize=False)\n",
    "\n",
    "\n",
    "model = networks.CNNRegression()\n",
    "\n",
    "optimizer = torch.optim.Adam(model.parameters(), lr=0.001)\n",
    "\n",
    "train_losses = []\n",
    "val_losses = []\n",
    "\n",
    "epochs = 50\n",
    "\n",
    "# MSELoss is used due to this being a regression task\n",
    "loss_fn = torch.nn.MSELoss(reduction='none')\n",
    "\n",
    "train_losses, val_losses = utils.training_loop(train_dataloader, val_dataloader, model, optimizer, epochs, loss_fn, train_losses, val_losses)"
   ]
  },
  {
   "cell_type": "markdown",
   "metadata": {},
   "source": [
    "# Save checkpoint and losses for model 2"
   ]
  },
  {
   "cell_type": "code",
   "execution_count": 7,
   "metadata": {},
   "outputs": [],
   "source": [
    "model_state = model.state_dict()\n",
    "\n",
    "model_2_losses = {'train_losses': train_losses, 'val_losses': val_losses, 'epochs': epochs}\n",
    "\n",
    "torch.save(model_state, 'model_checkpoints/CNN.ckpt')\n",
    "torch.save(model_2_losses, 'model_losses/model_2_losses.pth')"
   ]
  },
  {
   "cell_type": "markdown",
   "metadata": {},
   "source": [
    "# Train images and CSV features with a multimodal neural network"
   ]
  },
  {
   "cell_type": "code",
   "execution_count": 8,
   "metadata": {},
   "outputs": [
    {
     "name": "stderr",
     "output_type": "stream",
     "text": [
      "100%|██████████| 50/50 [23:54<00:00, 28.69s/it]\n"
     ]
    }
   ],
   "source": [
    "x_train_image = image_dict['x_train_image']\n",
    "x_val_image = image_dict['x_val_image']\n",
    "\n",
    "image_batch_size = 32\n",
    "\n",
    "train_dataloader = MultimodalDataloader(x = x_train, images=x_train_image, y = y_train, batch_size=image_batch_size, randomize=True)\n",
    "val_dataloader = MultimodalDataloader(x = x_val, images=x_val_image, y = y_val, batch_size=image_batch_size, randomize=False)\n",
    "\n",
    "model = networks.MultimodalNetwork()\n",
    "\n",
    "optimizer = torch.optim.Adam(model.parameters(), lr=0.001)\n",
    "\n",
    "train_losses = []\n",
    "val_losses = []\n",
    "\n",
    "epochs = 50\n",
    "\n",
    "# MSELoss is used for this regression task\n",
    "loss_fn = torch.nn.MSELoss(reduction='none')\n",
    "\n",
    "train_losses, val_losses = utils.training_loop(train_dataloader, val_dataloader, model, optimizer, epochs, loss_fn, train_losses, val_losses, is_model_2=False)"
   ]
  },
  {
   "cell_type": "markdown",
   "metadata": {},
   "source": [
    "# Save the losses and the model checkpoint"
   ]
  },
  {
   "cell_type": "code",
   "execution_count": 9,
   "metadata": {},
   "outputs": [],
   "source": [
    "model_state = model.state_dict()\n",
    "model_3_losses = {'train_losses': train_losses, 'val_losses': val_losses, 'epochs': epochs}\n",
    "\n",
    "torch.save(model_state, 'model_checkpoints/MultimodalNN.ckpt')\n",
    "torch.save(model_3_losses, 'model_losses/model_3_losses.pth')"
   ]
  }
 ],
 "metadata": {
  "kernelspec": {
   "display_name": ".venv",
   "language": "python",
   "name": "python3"
  },
  "language_info": {
   "codemirror_mode": {
    "name": "ipython",
    "version": 3
   },
   "file_extension": ".py",
   "mimetype": "text/x-python",
   "name": "python",
   "nbconvert_exporter": "python",
   "pygments_lexer": "ipython3",
   "version": "3.10.11"
  }
 },
 "nbformat": 4,
 "nbformat_minor": 2
}
